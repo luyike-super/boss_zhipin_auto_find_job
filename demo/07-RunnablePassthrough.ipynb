{
 "cells": [
  {
   "cell_type": "markdown",
   "metadata": {},
   "source": [
    "### 总结\n",
    "1. RunnablePassthrough +  RunnableParallel  解决检索时， 数据丢失问题\n",
    "RunnablePassthrough.assign() 来有条件地添加或修改数据"
   ]
  },
  {
   "cell_type": "markdown",
   "metadata": {},
   "source": [
    "# RunnablePassthrough 原理\n",
    "RunnablePassthrough 的核心功能是原样传递输入数据，不做任何修改或转换。它就像一个\"透明管道\"，数据流经它时保持不变。\n",
    "\n",
    "常用于处理链中，将输入数据传递，直接给下一个处理步骤。\n",
    "\n",
    "\n",
    "\n",
    "## 1. 使用方法\n"
   ]
  },
  {
   "cell_type": "code",
   "execution_count": 2,
   "metadata": {},
   "outputs": [
    {
     "name": "stdout",
     "output_type": "stream",
     "text": [
      "Hello World\n"
     ]
    }
   ],
   "source": [
    "from langchain_core.runnables import RunnablePassthrough\n",
    "\n",
    "# 创建一个简单的 passthrough\n",
    "passthrough = RunnablePassthrough()\n",
    "\n",
    "# 使用它\n",
    "result = passthrough.invoke(\"Hello World\")\n",
    "print(result)  # 输出: \"Hello World\""
   ]
  },
  {
   "cell_type": "markdown",
   "metadata": {},
   "source": [
    "### 2. 在 RunnableParallel 中使用\n",
    "这是最常见的使用场景，用于并行处理多个数据流："
   ]
  },
  {
   "cell_type": "code",
   "execution_count": null,
   "metadata": {},
   "outputs": [],
   "source": [
    "from langchain_core.runnables import RunnablePassthrough, RunnableParallel\n",
    "\n",
    "# 创建并行处理链\n",
    "chain = RunnableParallel(\n",
    "    # 原样传递原始输入\n",
    "    original_input=RunnablePassthrough(),\n",
    "    # 对输入进行某种转换\n",
    "    processed_input=lambda x: x.upper()\n",
    ")\n",
    "\n",
    "result = chain.invoke(\"hello\")\n",
    "print(result)  \n",
    "# 输出: {'original_input': 'hello', 'processed_input': 'HELLO'}"
   ]
  },
  {
   "cell_type": "markdown",
   "metadata": {},
   "source": [
    "### 3. 在 RAG 链中的典型应用"
   ]
  },
  {
   "cell_type": "code",
   "execution_count": null,
   "metadata": {},
   "outputs": [],
   "source": [
    "from langchain_core.runnables import RunnablePassthrough, RunnableParallel\n",
    "from langchain_core.output_parsers import StrOutputParser\n",
    "\n",
    "# RAG 链的构建\n",
    "rag_chain = (\n",
    "    RunnableParallel(\n",
    "        # 检索相关文档作为上下文\n",
    "        context=retriever | format_docs,\n",
    "        # 保持原始问题不变\n",
    "        question=RunnablePassthrough()\n",
    "    )\n",
    "    | prompt  # prompt 会接收 {context: \"...\", question: \"...\"}\n",
    "    | llm\n",
    "    | StrOutputParser()\n",
    ")\n",
    "\n",
    "# 使用时\n",
    "response = rag_chain.invoke(\"什么是机器学习？\")"
   ]
  },
  {
   "cell_type": "markdown",
   "metadata": {},
   "source": [
    "### 4. 条件传递"
   ]
  },
  {
   "cell_type": "code",
   "execution_count": null,
   "metadata": {},
   "outputs": [],
   "source": [
    "# 在传递数据的同时添加新字段\n",
    "chain = (\n",
    "    RunnablePassthrough.assign(\n",
    "        timestamp=lambda _: datetime.now(),\n",
    "        word_count=lambda x: len(x.split())\n",
    "    )\n",
    ")\n",
    "\n",
    "result = chain.invoke(\"Hello world from LangChain\")\n",
    "# 结果包含原始输入 + 新增的 timestamp 和 word_count"
   ]
  },
  {
   "cell_type": "markdown",
   "metadata": {},
   "source": [
    "### 5. 在复杂链中的应用"
   ]
  },
  {
   "cell_type": "code",
   "execution_count": null,
   "metadata": {},
   "outputs": [],
   "source": [
    "# 复杂的处理链\n",
    "complex_chain = (\n",
    "    # 第一步：并行处理\n",
    "    RunnableParallel(\n",
    "        query=RunnablePassthrough(),\n",
    "        embedding=lambda x: embeddings.embed_query(x)\n",
    "    )\n",
    "    # 第二步：基于 embedding 检索\n",
    "    | RunnableParallel(\n",
    "        query=lambda x: x[\"query\"],  # 保持 query\n",
    "        docs=lambda x: retriever.get_relevant_documents(x[\"embedding\"])\n",
    "    )\n",
    "    # 第三步：格式化并生成回答\n",
    "    | prompt\n",
    "    | llm\n",
    ")"
   ]
  }
 ],
 "metadata": {
  "kernelspec": {
   "display_name": "boss_find_job",
   "language": "python",
   "name": "python3"
  },
  "language_info": {
   "codemirror_mode": {
    "name": "ipython",
    "version": 3
   },
   "file_extension": ".py",
   "mimetype": "text/x-python",
   "name": "python",
   "nbconvert_exporter": "python",
   "pygments_lexer": "ipython3",
   "version": "3.13.0"
  }
 },
 "nbformat": 4,
 "nbformat_minor": 2
}
