{
 "cells": [
  {
   "cell_type": "markdown",
   "metadata": {},
   "source": [
    "# RunnablePassthrough 原理\n",
    "RunnablePassthrough 的核心功能是原样传递输入数据，不做任何修改或转换。它就像一个\"透明管道\"，数据流经它时保持不变。\n",
    "\n",
    "常用于处理链中，将输入数据传递，直接给下一个处理步骤。\n",
    "\n",
    "## 使用方法\n"
   ]
  },
  {
   "cell_type": "code",
   "execution_count": 2,
   "metadata": {},
   "outputs": [
    {
     "name": "stdout",
     "output_type": "stream",
     "text": [
      "Hello World\n"
     ]
    }
   ],
   "source": [
    "from langchain_core.runnables import RunnablePassthrough\n",
    "\n",
    "# 创建一个简单的 passthrough\n",
    "passthrough = RunnablePassthrough()\n",
    "\n",
    "# 使用它\n",
    "result = passthrough.invoke(\"Hello World\")\n",
    "print(result)  # 输出: \"Hello World\""
   ]
  }
 ],
 "metadata": {
  "kernelspec": {
   "display_name": "boss_find_job",
   "language": "python",
   "name": "python3"
  },
  "language_info": {
   "codemirror_mode": {
    "name": "ipython",
    "version": 3
   },
   "file_extension": ".py",
   "mimetype": "text/x-python",
   "name": "python",
   "nbconvert_exporter": "python",
   "pygments_lexer": "ipython3",
   "version": "3.13.0"
  }
 },
 "nbformat": 4,
 "nbformat_minor": 2
}
